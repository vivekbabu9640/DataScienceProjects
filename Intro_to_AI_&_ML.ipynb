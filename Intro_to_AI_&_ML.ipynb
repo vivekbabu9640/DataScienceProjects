{
  "nbformat": 4,
  "nbformat_minor": 0,
  "metadata": {
    "colab": {
      "provenance": [],
      "authorship_tag": "ABX9TyOwTwowNaFz0Qqm5h3Bjdgn",
      "include_colab_link": true
    },
    "kernelspec": {
      "name": "python3",
      "display_name": "Python 3"
    },
    "language_info": {
      "name": "python"
    }
  },
  "cells": [
    {
      "cell_type": "markdown",
      "metadata": {
        "id": "view-in-github",
        "colab_type": "text"
      },
      "source": [
        "<a href=\"https://colab.research.google.com/github/vivekbabu9640/DataScienceProjects/blob/main/Intro_to_AI_%26_ML.ipynb\" target=\"_parent\"><img src=\"https://colab.research.google.com/assets/colab-badge.svg\" alt=\"Open In Colab\"/></a>"
      ]
    },
    {
      "cell_type": "markdown",
      "source": [
        "### importing libraries\n"
      ],
      "metadata": {
        "id": "KvGdU6ugJC4t"
      }
    },
    {
      "cell_type": "code",
      "metadata": {
        "colab": {
          "base_uri": "https://localhost:8080/"
        },
        "id": "63e1f4ed",
        "outputId": "3b851bdc-b0af-4e73-e0f5-abd576992c5b"
      },
      "source": [
        "!pip install scikeras"
      ],
      "execution_count": null,
      "outputs": [
        {
          "output_type": "stream",
          "name": "stdout",
          "text": [
            "Collecting scikeras\n",
            "  Downloading scikeras-0.13.0-py3-none-any.whl.metadata (3.1 kB)\n",
            "Requirement already satisfied: keras>=3.2.0 in /usr/local/lib/python3.12/dist-packages (from scikeras) (3.10.0)\n",
            "Requirement already satisfied: scikit-learn>=1.4.2 in /usr/local/lib/python3.12/dist-packages (from scikeras) (1.6.1)\n",
            "Requirement already satisfied: absl-py in /usr/local/lib/python3.12/dist-packages (from keras>=3.2.0->scikeras) (1.4.0)\n",
            "Requirement already satisfied: numpy in /usr/local/lib/python3.12/dist-packages (from keras>=3.2.0->scikeras) (2.0.2)\n",
            "Requirement already satisfied: rich in /usr/local/lib/python3.12/dist-packages (from keras>=3.2.0->scikeras) (13.9.4)\n",
            "Requirement already satisfied: namex in /usr/local/lib/python3.12/dist-packages (from keras>=3.2.0->scikeras) (0.1.0)\n",
            "Requirement already satisfied: h5py in /usr/local/lib/python3.12/dist-packages (from keras>=3.2.0->scikeras) (3.14.0)\n",
            "Requirement already satisfied: optree in /usr/local/lib/python3.12/dist-packages (from keras>=3.2.0->scikeras) (0.17.0)\n",
            "Requirement already satisfied: ml-dtypes in /usr/local/lib/python3.12/dist-packages (from keras>=3.2.0->scikeras) (0.5.3)\n",
            "Requirement already satisfied: packaging in /usr/local/lib/python3.12/dist-packages (from keras>=3.2.0->scikeras) (25.0)\n",
            "Requirement already satisfied: scipy>=1.6.0 in /usr/local/lib/python3.12/dist-packages (from scikit-learn>=1.4.2->scikeras) (1.16.2)\n",
            "Requirement already satisfied: joblib>=1.2.0 in /usr/local/lib/python3.12/dist-packages (from scikit-learn>=1.4.2->scikeras) (1.5.2)\n",
            "Requirement already satisfied: threadpoolctl>=3.1.0 in /usr/local/lib/python3.12/dist-packages (from scikit-learn>=1.4.2->scikeras) (3.6.0)\n",
            "Requirement already satisfied: typing-extensions>=4.6.0 in /usr/local/lib/python3.12/dist-packages (from optree->keras>=3.2.0->scikeras) (4.15.0)\n",
            "Requirement already satisfied: markdown-it-py>=2.2.0 in /usr/local/lib/python3.12/dist-packages (from rich->keras>=3.2.0->scikeras) (4.0.0)\n",
            "Requirement already satisfied: pygments<3.0.0,>=2.13.0 in /usr/local/lib/python3.12/dist-packages (from rich->keras>=3.2.0->scikeras) (2.19.2)\n",
            "Requirement already satisfied: mdurl~=0.1 in /usr/local/lib/python3.12/dist-packages (from markdown-it-py>=2.2.0->rich->keras>=3.2.0->scikeras) (0.1.2)\n",
            "Downloading scikeras-0.13.0-py3-none-any.whl (26 kB)\n",
            "Installing collected packages: scikeras\n",
            "Successfully installed scikeras-0.13.0\n"
          ]
        }
      ]
    },
    {
      "cell_type": "code",
      "metadata": {
        "id": "82ae52ff"
      },
      "source": [
        "import pandas as pd\n",
        "import numpy as np\n",
        "import matplotlib.pyplot as plt\n",
        "import seaborn as sns\n",
        "from sklearn.preprocessing import LabelEncoder\n",
        "import tensorflow as tf\n",
        "from tensorflow.keras import Sequential\n",
        "from tensorflow.keras.layers import Dense\n",
        "from tensorflow.keras.optimizers import Adam\n",
        "from sklearn.model_selection import train_test_split\n",
        "from sklearn.metrics import accuracy_score\n",
        "from scikeras.wrappers import KerasClassifier\n"
      ],
      "execution_count": null,
      "outputs": []
    },
    {
      "cell_type": "markdown",
      "source": [
        "### loading csv file"
      ],
      "metadata": {
        "id": "dMUnv8wzJPOz"
      }
    },
    {
      "cell_type": "code",
      "source": [
        "df = pd.read_csv('/content/fitness_dataset.csv')"
      ],
      "metadata": {
        "id": "C28MFG00JOOW"
      },
      "execution_count": null,
      "outputs": []
    },
    {
      "cell_type": "markdown",
      "source": [
        "### preview of data"
      ],
      "metadata": {
        "id": "wrxgs27DJV3D"
      }
    },
    {
      "cell_type": "code",
      "source": [
        "df.head(5)"
      ],
      "metadata": {
        "colab": {
          "base_uri": "https://localhost:8080/",
          "height": 206
        },
        "id": "hbitXzDpJU6F",
        "outputId": "05c9a9f4-2b36-492d-869f-833e10fda8d3"
      },
      "execution_count": null,
      "outputs": [
        {
          "output_type": "execute_result",
          "data": {
            "text/plain": [
              "   age  height_cm  weight_kg  heart_rate  blood_pressure  sleep_hours  \\\n",
              "0   56        152         65        69.6           117.0          NaN   \n",
              "1   69        186         95        60.8           114.8          7.5   \n",
              "2   46        192        103        61.4           116.4          NaN   \n",
              "3   32        189         83        60.2           130.1          7.0   \n",
              "4   60        175         99        58.1           115.8          8.0   \n",
              "\n",
              "   nutrition_quality  activity_index smokes gender  is_fit  \n",
              "0               2.37            3.97     no      F       1  \n",
              "1               8.77            3.19      0      F       1  \n",
              "2               8.20            2.03      0      F       0  \n",
              "3               6.18            3.68      0      M       1  \n",
              "4               9.95            4.83    yes      F       1  "
            ],
            "text/html": [
              "\n",
              "  <div id=\"df-df1d111b-436a-4f1d-adb7-f6aa692aa3f0\" class=\"colab-df-container\">\n",
              "    <div>\n",
              "<style scoped>\n",
              "    .dataframe tbody tr th:only-of-type {\n",
              "        vertical-align: middle;\n",
              "    }\n",
              "\n",
              "    .dataframe tbody tr th {\n",
              "        vertical-align: top;\n",
              "    }\n",
              "\n",
              "    .dataframe thead th {\n",
              "        text-align: right;\n",
              "    }\n",
              "</style>\n",
              "<table border=\"1\" class=\"dataframe\">\n",
              "  <thead>\n",
              "    <tr style=\"text-align: right;\">\n",
              "      <th></th>\n",
              "      <th>age</th>\n",
              "      <th>height_cm</th>\n",
              "      <th>weight_kg</th>\n",
              "      <th>heart_rate</th>\n",
              "      <th>blood_pressure</th>\n",
              "      <th>sleep_hours</th>\n",
              "      <th>nutrition_quality</th>\n",
              "      <th>activity_index</th>\n",
              "      <th>smokes</th>\n",
              "      <th>gender</th>\n",
              "      <th>is_fit</th>\n",
              "    </tr>\n",
              "  </thead>\n",
              "  <tbody>\n",
              "    <tr>\n",
              "      <th>0</th>\n",
              "      <td>56</td>\n",
              "      <td>152</td>\n",
              "      <td>65</td>\n",
              "      <td>69.6</td>\n",
              "      <td>117.0</td>\n",
              "      <td>NaN</td>\n",
              "      <td>2.37</td>\n",
              "      <td>3.97</td>\n",
              "      <td>no</td>\n",
              "      <td>F</td>\n",
              "      <td>1</td>\n",
              "    </tr>\n",
              "    <tr>\n",
              "      <th>1</th>\n",
              "      <td>69</td>\n",
              "      <td>186</td>\n",
              "      <td>95</td>\n",
              "      <td>60.8</td>\n",
              "      <td>114.8</td>\n",
              "      <td>7.5</td>\n",
              "      <td>8.77</td>\n",
              "      <td>3.19</td>\n",
              "      <td>0</td>\n",
              "      <td>F</td>\n",
              "      <td>1</td>\n",
              "    </tr>\n",
              "    <tr>\n",
              "      <th>2</th>\n",
              "      <td>46</td>\n",
              "      <td>192</td>\n",
              "      <td>103</td>\n",
              "      <td>61.4</td>\n",
              "      <td>116.4</td>\n",
              "      <td>NaN</td>\n",
              "      <td>8.20</td>\n",
              "      <td>2.03</td>\n",
              "      <td>0</td>\n",
              "      <td>F</td>\n",
              "      <td>0</td>\n",
              "    </tr>\n",
              "    <tr>\n",
              "      <th>3</th>\n",
              "      <td>32</td>\n",
              "      <td>189</td>\n",
              "      <td>83</td>\n",
              "      <td>60.2</td>\n",
              "      <td>130.1</td>\n",
              "      <td>7.0</td>\n",
              "      <td>6.18</td>\n",
              "      <td>3.68</td>\n",
              "      <td>0</td>\n",
              "      <td>M</td>\n",
              "      <td>1</td>\n",
              "    </tr>\n",
              "    <tr>\n",
              "      <th>4</th>\n",
              "      <td>60</td>\n",
              "      <td>175</td>\n",
              "      <td>99</td>\n",
              "      <td>58.1</td>\n",
              "      <td>115.8</td>\n",
              "      <td>8.0</td>\n",
              "      <td>9.95</td>\n",
              "      <td>4.83</td>\n",
              "      <td>yes</td>\n",
              "      <td>F</td>\n",
              "      <td>1</td>\n",
              "    </tr>\n",
              "  </tbody>\n",
              "</table>\n",
              "</div>\n",
              "    <div class=\"colab-df-buttons\">\n",
              "\n",
              "  <div class=\"colab-df-container\">\n",
              "    <button class=\"colab-df-convert\" onclick=\"convertToInteractive('df-df1d111b-436a-4f1d-adb7-f6aa692aa3f0')\"\n",
              "            title=\"Convert this dataframe to an interactive table.\"\n",
              "            style=\"display:none;\">\n",
              "\n",
              "  <svg xmlns=\"http://www.w3.org/2000/svg\" height=\"24px\" viewBox=\"0 -960 960 960\">\n",
              "    <path d=\"M120-120v-720h720v720H120Zm60-500h600v-160H180v160Zm220 220h160v-160H400v160Zm0 220h160v-160H400v160ZM180-400h160v-160H180v160Zm440 0h160v-160H620v160ZM180-180h160v-160H180v160Zm440 0h160v-160H620v160Z\"/>\n",
              "  </svg>\n",
              "    </button>\n",
              "\n",
              "  <style>\n",
              "    .colab-df-container {\n",
              "      display:flex;\n",
              "      gap: 12px;\n",
              "    }\n",
              "\n",
              "    .colab-df-convert {\n",
              "      background-color: #E8F0FE;\n",
              "      border: none;\n",
              "      border-radius: 50%;\n",
              "      cursor: pointer;\n",
              "      display: none;\n",
              "      fill: #1967D2;\n",
              "      height: 32px;\n",
              "      padding: 0 0 0 0;\n",
              "      width: 32px;\n",
              "    }\n",
              "\n",
              "    .colab-df-convert:hover {\n",
              "      background-color: #E2EBFA;\n",
              "      box-shadow: 0px 1px 2px rgba(60, 64, 67, 0.3), 0px 1px 3px 1px rgba(60, 64, 67, 0.15);\n",
              "      fill: #174EA6;\n",
              "    }\n",
              "\n",
              "    .colab-df-buttons div {\n",
              "      margin-bottom: 4px;\n",
              "    }\n",
              "\n",
              "    [theme=dark] .colab-df-convert {\n",
              "      background-color: #3B4455;\n",
              "      fill: #D2E3FC;\n",
              "    }\n",
              "\n",
              "    [theme=dark] .colab-df-convert:hover {\n",
              "      background-color: #434B5C;\n",
              "      box-shadow: 0px 1px 3px 1px rgba(0, 0, 0, 0.15);\n",
              "      filter: drop-shadow(0px 1px 2px rgba(0, 0, 0, 0.3));\n",
              "      fill: #FFFFFF;\n",
              "    }\n",
              "  </style>\n",
              "\n",
              "    <script>\n",
              "      const buttonEl =\n",
              "        document.querySelector('#df-df1d111b-436a-4f1d-adb7-f6aa692aa3f0 button.colab-df-convert');\n",
              "      buttonEl.style.display =\n",
              "        google.colab.kernel.accessAllowed ? 'block' : 'none';\n",
              "\n",
              "      async function convertToInteractive(key) {\n",
              "        const element = document.querySelector('#df-df1d111b-436a-4f1d-adb7-f6aa692aa3f0');\n",
              "        const dataTable =\n",
              "          await google.colab.kernel.invokeFunction('convertToInteractive',\n",
              "                                                    [key], {});\n",
              "        if (!dataTable) return;\n",
              "\n",
              "        const docLinkHtml = 'Like what you see? Visit the ' +\n",
              "          '<a target=\"_blank\" href=https://colab.research.google.com/notebooks/data_table.ipynb>data table notebook</a>'\n",
              "          + ' to learn more about interactive tables.';\n",
              "        element.innerHTML = '';\n",
              "        dataTable['output_type'] = 'display_data';\n",
              "        await google.colab.output.renderOutput(dataTable, element);\n",
              "        const docLink = document.createElement('div');\n",
              "        docLink.innerHTML = docLinkHtml;\n",
              "        element.appendChild(docLink);\n",
              "      }\n",
              "    </script>\n",
              "  </div>\n",
              "\n",
              "\n",
              "    <div id=\"df-8b2a94e2-eb91-494a-b1b9-7905e5dc3d8a\">\n",
              "      <button class=\"colab-df-quickchart\" onclick=\"quickchart('df-8b2a94e2-eb91-494a-b1b9-7905e5dc3d8a')\"\n",
              "                title=\"Suggest charts\"\n",
              "                style=\"display:none;\">\n",
              "\n",
              "<svg xmlns=\"http://www.w3.org/2000/svg\" height=\"24px\"viewBox=\"0 0 24 24\"\n",
              "     width=\"24px\">\n",
              "    <g>\n",
              "        <path d=\"M19 3H5c-1.1 0-2 .9-2 2v14c0 1.1.9 2 2 2h14c1.1 0 2-.9 2-2V5c0-1.1-.9-2-2-2zM9 17H7v-7h2v7zm4 0h-2V7h2v10zm4 0h-2v-4h2v4z\"/>\n",
              "    </g>\n",
              "</svg>\n",
              "      </button>\n",
              "\n",
              "<style>\n",
              "  .colab-df-quickchart {\n",
              "      --bg-color: #E8F0FE;\n",
              "      --fill-color: #1967D2;\n",
              "      --hover-bg-color: #E2EBFA;\n",
              "      --hover-fill-color: #174EA6;\n",
              "      --disabled-fill-color: #AAA;\n",
              "      --disabled-bg-color: #DDD;\n",
              "  }\n",
              "\n",
              "  [theme=dark] .colab-df-quickchart {\n",
              "      --bg-color: #3B4455;\n",
              "      --fill-color: #D2E3FC;\n",
              "      --hover-bg-color: #434B5C;\n",
              "      --hover-fill-color: #FFFFFF;\n",
              "      --disabled-bg-color: #3B4455;\n",
              "      --disabled-fill-color: #666;\n",
              "  }\n",
              "\n",
              "  .colab-df-quickchart {\n",
              "    background-color: var(--bg-color);\n",
              "    border: none;\n",
              "    border-radius: 50%;\n",
              "    cursor: pointer;\n",
              "    display: none;\n",
              "    fill: var(--fill-color);\n",
              "    height: 32px;\n",
              "    padding: 0;\n",
              "    width: 32px;\n",
              "  }\n",
              "\n",
              "  .colab-df-quickchart:hover {\n",
              "    background-color: var(--hover-bg-color);\n",
              "    box-shadow: 0 1px 2px rgba(60, 64, 67, 0.3), 0 1px 3px 1px rgba(60, 64, 67, 0.15);\n",
              "    fill: var(--button-hover-fill-color);\n",
              "  }\n",
              "\n",
              "  .colab-df-quickchart-complete:disabled,\n",
              "  .colab-df-quickchart-complete:disabled:hover {\n",
              "    background-color: var(--disabled-bg-color);\n",
              "    fill: var(--disabled-fill-color);\n",
              "    box-shadow: none;\n",
              "  }\n",
              "\n",
              "  .colab-df-spinner {\n",
              "    border: 2px solid var(--fill-color);\n",
              "    border-color: transparent;\n",
              "    border-bottom-color: var(--fill-color);\n",
              "    animation:\n",
              "      spin 1s steps(1) infinite;\n",
              "  }\n",
              "\n",
              "  @keyframes spin {\n",
              "    0% {\n",
              "      border-color: transparent;\n",
              "      border-bottom-color: var(--fill-color);\n",
              "      border-left-color: var(--fill-color);\n",
              "    }\n",
              "    20% {\n",
              "      border-color: transparent;\n",
              "      border-left-color: var(--fill-color);\n",
              "      border-top-color: var(--fill-color);\n",
              "    }\n",
              "    30% {\n",
              "      border-color: transparent;\n",
              "      border-left-color: var(--fill-color);\n",
              "      border-top-color: var(--fill-color);\n",
              "      border-right-color: var(--fill-color);\n",
              "    }\n",
              "    40% {\n",
              "      border-color: transparent;\n",
              "      border-right-color: var(--fill-color);\n",
              "      border-top-color: var(--fill-color);\n",
              "    }\n",
              "    60% {\n",
              "      border-color: transparent;\n",
              "      border-right-color: var(--fill-color);\n",
              "    }\n",
              "    80% {\n",
              "      border-color: transparent;\n",
              "      border-right-color: var(--fill-color);\n",
              "      border-bottom-color: var(--fill-color);\n",
              "    }\n",
              "    90% {\n",
              "      border-color: transparent;\n",
              "      border-bottom-color: var(--fill-color);\n",
              "    }\n",
              "  }\n",
              "</style>\n",
              "\n",
              "      <script>\n",
              "        async function quickchart(key) {\n",
              "          const quickchartButtonEl =\n",
              "            document.querySelector('#' + key + ' button');\n",
              "          quickchartButtonEl.disabled = true;  // To prevent multiple clicks.\n",
              "          quickchartButtonEl.classList.add('colab-df-spinner');\n",
              "          try {\n",
              "            const charts = await google.colab.kernel.invokeFunction(\n",
              "                'suggestCharts', [key], {});\n",
              "          } catch (error) {\n",
              "            console.error('Error during call to suggestCharts:', error);\n",
              "          }\n",
              "          quickchartButtonEl.classList.remove('colab-df-spinner');\n",
              "          quickchartButtonEl.classList.add('colab-df-quickchart-complete');\n",
              "        }\n",
              "        (() => {\n",
              "          let quickchartButtonEl =\n",
              "            document.querySelector('#df-8b2a94e2-eb91-494a-b1b9-7905e5dc3d8a button');\n",
              "          quickchartButtonEl.style.display =\n",
              "            google.colab.kernel.accessAllowed ? 'block' : 'none';\n",
              "        })();\n",
              "      </script>\n",
              "    </div>\n",
              "\n",
              "    </div>\n",
              "  </div>\n"
            ],
            "application/vnd.google.colaboratory.intrinsic+json": {
              "type": "dataframe",
              "variable_name": "df",
              "summary": "{\n  \"name\": \"df\",\n  \"rows\": 2000,\n  \"fields\": [\n    {\n      \"column\": \"age\",\n      \"properties\": {\n        \"dtype\": \"number\",\n        \"std\": 17,\n        \"min\": 18,\n        \"max\": 79,\n        \"num_unique_values\": 62,\n        \"samples\": [\n          51,\n          18,\n          56\n        ],\n        \"semantic_type\": \"\",\n        \"description\": \"\"\n      }\n    },\n    {\n      \"column\": \"height_cm\",\n      \"properties\": {\n        \"dtype\": \"number\",\n        \"std\": 14,\n        \"min\": 150,\n        \"max\": 199,\n        \"num_unique_values\": 50,\n        \"samples\": [\n          174,\n          156,\n          150\n        ],\n        \"semantic_type\": \"\",\n        \"description\": \"\"\n      }\n    },\n    {\n      \"column\": \"weight_kg\",\n      \"properties\": {\n        \"dtype\": \"number\",\n        \"std\": 25,\n        \"min\": 30,\n        \"max\": 250,\n        \"num_unique_values\": 80,\n        \"samples\": [\n          59,\n          65,\n          91\n        ],\n        \"semantic_type\": \"\",\n        \"description\": \"\"\n      }\n    },\n    {\n      \"column\": \"heart_rate\",\n      \"properties\": {\n        \"dtype\": \"number\",\n        \"std\": 11.846338586624741,\n        \"min\": 45.0,\n        \"max\": 118.6,\n        \"num_unique_values\": 484,\n        \"samples\": [\n          75.1,\n          86.7,\n          51.9\n        ],\n        \"semantic_type\": \"\",\n        \"description\": \"\"\n      }\n    },\n    {\n      \"column\": \"blood_pressure\",\n      \"properties\": {\n        \"dtype\": \"number\",\n        \"std\": 14.578031972306592,\n        \"min\": 90.0,\n        \"max\": 171.2,\n        \"num_unique_values\": 563,\n        \"samples\": [\n          113.0,\n          106.5,\n          134.1\n        ],\n        \"semantic_type\": \"\",\n        \"description\": \"\"\n      }\n    },\n    {\n      \"column\": \"sleep_hours\",\n      \"properties\": {\n        \"dtype\": \"number\",\n        \"std\": 1.5020312107660214,\n        \"min\": 4.0,\n        \"max\": 12.0,\n        \"num_unique_values\": 79,\n        \"samples\": [\n          9.2,\n          7.5,\n          10.0\n        ],\n        \"semantic_type\": \"\",\n        \"description\": \"\"\n      }\n    },\n    {\n      \"column\": \"nutrition_quality\",\n      \"properties\": {\n        \"dtype\": \"number\",\n        \"std\": 2.8641562589946004,\n        \"min\": 0.0,\n        \"max\": 10.0,\n        \"num_unique_values\": 866,\n        \"samples\": [\n          8.07,\n          1.44,\n          0.21\n        ],\n        \"semantic_type\": \"\",\n        \"description\": \"\"\n      }\n    },\n    {\n      \"column\": \"activity_index\",\n      \"properties\": {\n        \"dtype\": \"number\",\n        \"std\": 1.136383061133355,\n        \"min\": 1.0,\n        \"max\": 4.99,\n        \"num_unique_values\": 398,\n        \"samples\": [\n          2.58,\n          4.03,\n          4.51\n        ],\n        \"semantic_type\": \"\",\n        \"description\": \"\"\n      }\n    },\n    {\n      \"column\": \"smokes\",\n      \"properties\": {\n        \"dtype\": \"category\",\n        \"num_unique_values\": 4,\n        \"samples\": [\n          \"0\",\n          \"1\",\n          \"no\"\n        ],\n        \"semantic_type\": \"\",\n        \"description\": \"\"\n      }\n    },\n    {\n      \"column\": \"gender\",\n      \"properties\": {\n        \"dtype\": \"category\",\n        \"num_unique_values\": 2,\n        \"samples\": [\n          \"M\",\n          \"F\"\n        ],\n        \"semantic_type\": \"\",\n        \"description\": \"\"\n      }\n    },\n    {\n      \"column\": \"is_fit\",\n      \"properties\": {\n        \"dtype\": \"number\",\n        \"std\": 0,\n        \"min\": 0,\n        \"max\": 1,\n        \"num_unique_values\": 2,\n        \"samples\": [\n          0,\n          1\n        ],\n        \"semantic_type\": \"\",\n        \"description\": \"\"\n      }\n    }\n  ]\n}"
            }
          },
          "metadata": {},
          "execution_count": 5
        }
      ]
    },
    {
      "cell_type": "markdown",
      "source": [
        "### preview\n",
        "\n"
      ],
      "metadata": {
        "id": "i6a8xy_RJbxY"
      }
    },
    {
      "cell_type": "code",
      "source": [
        "df.info()"
      ],
      "metadata": {
        "colab": {
          "base_uri": "https://localhost:8080/"
        },
        "id": "sG4_jsFUcFRC",
        "outputId": "20a48f43-f5b9-4249-d452-bf389eefc10a"
      },
      "execution_count": null,
      "outputs": [
        {
          "output_type": "stream",
          "name": "stdout",
          "text": [
            "<class 'pandas.core.frame.DataFrame'>\n",
            "RangeIndex: 2000 entries, 0 to 1999\n",
            "Data columns (total 11 columns):\n",
            " #   Column             Non-Null Count  Dtype  \n",
            "---  ------             --------------  -----  \n",
            " 0   age                2000 non-null   int64  \n",
            " 1   height_cm          2000 non-null   int64  \n",
            " 2   weight_kg          2000 non-null   int64  \n",
            " 3   heart_rate         2000 non-null   float64\n",
            " 4   blood_pressure     2000 non-null   float64\n",
            " 5   sleep_hours        1840 non-null   float64\n",
            " 6   nutrition_quality  2000 non-null   float64\n",
            " 7   activity_index     2000 non-null   float64\n",
            " 8   smokes             2000 non-null   object \n",
            " 9   gender             2000 non-null   object \n",
            " 10  is_fit             2000 non-null   int64  \n",
            "dtypes: float64(5), int64(4), object(2)\n",
            "memory usage: 172.0+ KB\n"
          ]
        }
      ]
    },
    {
      "cell_type": "code",
      "source": [
        "print(df.columns)"
      ],
      "metadata": {
        "colab": {
          "base_uri": "https://localhost:8080/"
        },
        "id": "JBXNtGDkJZJ4",
        "outputId": "6a25fcb9-4140-47db-e94b-c719cbbaf8f0"
      },
      "execution_count": null,
      "outputs": [
        {
          "output_type": "stream",
          "name": "stdout",
          "text": [
            "Index(['age', 'height_cm', 'weight_kg', 'heart_rate', 'blood_pressure',\n",
            "       'sleep_hours', 'nutrition_quality', 'activity_index', 'smokes',\n",
            "       'gender', 'is_fit'],\n",
            "      dtype='object')\n"
          ]
        }
      ]
    },
    {
      "cell_type": "markdown",
      "source": [
        "### number of records and features"
      ],
      "metadata": {
        "id": "t3mbK1q1Jo7_"
      }
    },
    {
      "cell_type": "code",
      "source": [
        "print(df.shape)"
      ],
      "metadata": {
        "colab": {
          "base_uri": "https://localhost:8080/"
        },
        "id": "Ay100YZ8JvK_",
        "outputId": "132d5ceb-ddda-46ba-e13d-3502b80b7187"
      },
      "execution_count": null,
      "outputs": [
        {
          "output_type": "stream",
          "name": "stdout",
          "text": [
            "(2000, 11)\n"
          ]
        }
      ]
    },
    {
      "cell_type": "markdown",
      "source": [
        "### checking null values"
      ],
      "metadata": {
        "id": "CYEWuvmLJgTv"
      }
    },
    {
      "cell_type": "code",
      "source": [
        "print(df.isnull().sum())"
      ],
      "metadata": {
        "colab": {
          "base_uri": "https://localhost:8080/"
        },
        "id": "uCnlhMrYJe1y",
        "outputId": "0ddc9819-2f2b-456b-b445-d79bea7c4316"
      },
      "execution_count": null,
      "outputs": [
        {
          "output_type": "stream",
          "name": "stdout",
          "text": [
            "age                    0\n",
            "height_cm              0\n",
            "weight_kg              0\n",
            "heart_rate             0\n",
            "blood_pressure         0\n",
            "sleep_hours          160\n",
            "nutrition_quality      0\n",
            "activity_index         0\n",
            "smokes                 0\n",
            "gender                 0\n",
            "is_fit                 0\n",
            "dtype: int64\n"
          ]
        }
      ]
    },
    {
      "cell_type": "code",
      "source": [
        "print(df.sleep_hours)"
      ],
      "metadata": {
        "colab": {
          "base_uri": "https://localhost:8080/"
        },
        "id": "Zco214P6JnXH",
        "outputId": "ce9c1c02-3031-4060-d405-23bc9767d90b"
      },
      "execution_count": null,
      "outputs": [
        {
          "output_type": "stream",
          "name": "stdout",
          "text": [
            "0       NaN\n",
            "1       7.5\n",
            "2       NaN\n",
            "3       7.0\n",
            "4       8.0\n",
            "       ... \n",
            "1995    NaN\n",
            "1996    9.4\n",
            "1997    8.3\n",
            "1998    6.7\n",
            "1999    8.3\n",
            "Name: sleep_hours, Length: 2000, dtype: float64\n"
          ]
        }
      ]
    },
    {
      "cell_type": "markdown",
      "source": [
        "### checking outliers using boxplot"
      ],
      "metadata": {
        "id": "3ztbEgusKQCR"
      }
    },
    {
      "cell_type": "code",
      "source": [
        "num_col = df.select_dtypes(include=['int64', 'float64']).columns\n",
        "print(num_col)\n",
        "\n",
        "for col in num_col:\n",
        "  plt.figure(figsize=(10,5))\n",
        "  plt.subplot(2,2,2)\n",
        "  sns.boxplot(df[col])\n",
        "  plt.show()"
      ],
      "metadata": {
        "colab": {
          "base_uri": "https://localhost:8080/",
          "height": 1000
        },
        "id": "H8gVGZR_KEbG",
        "outputId": "d22bf9e9-55c4-4634-ea52-ea9f78a74bfc"
      },
      "execution_count": null,
      "outputs": [
        {
          "output_type": "stream",
          "name": "stdout",
          "text": [
            "Index(['age', 'height_cm', 'weight_kg', 'heart_rate', 'blood_pressure',\n",
            "       'sleep_hours', 'nutrition_quality', 'activity_index', 'is_fit'],\n",
            "      dtype='object')\n"
          ]
        },
        {
          "output_type": "display_data",
          "data": {
            "text/plain": [
              "<Figure size 1000x500 with 1 Axes>"
            ],
            "image/png": "[encoded data removed]"
          },
          "metadata": {}
        },
        {
          "output_type": "display_data",
          "data": {
            "text/plain": [
              "<Figure size 1000x500 with 1 Axes>"
            ],
            "image/png": "[encoded data removed]"
          },
          "metadata": {}
        },
        {
          "output_type": "display_data",
          "data": {
            "text/plain": [
              "<Figure size 1000x500 with 1 Axes>"
            ],
            "image/png": "[encoded data removed]"
          },
          "metadata": {}
        },
        {
          "output_type": "display_data",
          "data": {
            "text/plain": [
              "<Figure size 1000x500 with 1 Axes>"
            ],
            "image/png": "[encoded data removed]"
          },
          "metadata": {}
        },
        {
          "output_type": "display_data",
          "data": {
            "text/plain": [
              "<Figure size 1000x500 with 1 Axes>"
            ],
            "image/png": "[encoded data removed]"
          },
          "metadata": {}
        },
        {
          "output_type": "display_data",
          "data": {
            "text/plain": [
              "<Figure size 1000x500 with 1 Axes>"
            ],
            "image/png": "[encoded data removed]"
          },
          "metadata": {}
        },
        {
          "output_type": "display_data",
          "data": {
            "text/plain": [
              "<Figure size 1000x500 with 1 Axes>"
            ],
            "image/png": "[encoded data removed]"
          },
          "metadata": {}
        },
        {
          "output_type": "display_data",
          "data": {
            "text/plain": [
              "<Figure size 1000x500 with 1 Axes>"
            ],
            "image/png": "[encoded data removed]"
          },
          "metadata": {}
        },
        {
          "output_type": "display_data",
          "data": {
            "text/plain": [
              "<Figure size 1000x500 with 1 Axes>"
            ],
            "image/png": "[encoded data removed]"
          },
          "metadata": {}
        }
      ]
    },
    {
      "cell_type": "markdown",
      "source": [
        "### treating outliers"
      ],
      "metadata": {
        "id": "1-hZIRDeSmgv"
      }
    },
    {
      "cell_type": "code",
      "source": [
        "# weight column outliers\n",
        "\n",
        "q1 = df['weight_kg'].quantile(0.25)\n",
        "\n",
        "q3 = df['weight_kg'].quantile(0.75)\n",
        "\n",
        "iqr = q3 - q1\n",
        "\n",
        "lower_bound = q1 - 1.5 * iqr\n",
        "upper_bound = q3 + 1.5 * iqr\n",
        "\n",
        "weight_outliers = df[(df['weight_kg']<lower_bound) | (df['weight_kg']>upper_bound)]\n",
        "print(f\"count of weight outliers: {len(weight_outliers)}\")\n",
        "print(f\"total count of weight column data: {len(df['weight_kg'])}\")\n",
        "print(f\"percentage of weight outliers: {len(weight_outliers)/len(df['weight_kg'])*100}\")\n",
        "\n",
        "\n",
        "\n",
        "\n",
        "# as outlier percentage is 1.05% i.e, 21 outliers we cannot drop that rows hence we will impute them with median\n",
        "\n",
        "print(f\"median weight_kg: {df['weight_kg'].median()}\")\n",
        "\n",
        "median_val = df['weight_kg'].median()\n",
        "\n",
        "df['weight_kg'] = df['weight_kg'].mask(\n",
        "    (df['weight_kg'] < lower_bound) | (df['weight_kg'] > upper_bound),\n",
        "    median_val\n",
        ")\n",
        "\n",
        "print(df['weight_kg'])\n"
      ],
      "metadata": {
        "colab": {
          "base_uri": "https://localhost:8080/"
        },
        "id": "pMRX0O_1Sm7v",
        "outputId": "e0ddd98a-9c29-4a8f-fd03-252b33af09ad"
      },
      "execution_count": null,
      "outputs": [
        {
          "output_type": "stream",
          "name": "stdout",
          "text": [
            "count of weight outliers: 21\n",
            "total count of weight column data: 2000\n",
            "percentage of weight outliers: 1.05\n",
            "median weight_kg: 83.0\n",
            "0        65\n",
            "1        95\n",
            "2       103\n",
            "3        83\n",
            "4        99\n",
            "       ... \n",
            "1995     98\n",
            "1996     74\n",
            "1997     89\n",
            "1998     63\n",
            "1999     78\n",
            "Name: weight_kg, Length: 2000, dtype: int64\n"
          ]
        }
      ]
    },
    {
      "cell_type": "code",
      "source": [
        "print(df['heart_rate'].isnull().sum())"
      ],
      "metadata": {
        "colab": {
          "base_uri": "https://localhost:8080/"
        },
        "id": "Oy-shnQuXK89",
        "outputId": "920dd0d5-dcb5-42f9-84f0-8b78cbb3edba"
      },
      "execution_count": null,
      "outputs": [
        {
          "output_type": "execute_result",
          "data": {
            "text/plain": [
              "np.int64(0)"
            ]
          },
          "metadata": {},
          "execution_count": 13
        }
      ]
    },
    {
      "cell_type": "markdown",
      "source": [
        "### treating nulls in sleeping hours"
      ],
      "metadata": {
        "id": "GqVE8I6wLcAd"
      }
    },
    {
      "cell_type": "code",
      "source": [],
      "metadata": {
        "id": "-DIctLl55I4w"
      },
      "execution_count": null,
      "outputs": []
    },
    {
      "cell_type": "code",
      "source": [
        "print(f\"median sleep hours: {df['sleep_hours'].median()}\")\n",
        "print(f\"mean sleep hours: {df['sleep_hours'].mean()}\")\n",
        "\n",
        "df['sleep_hours']=df['sleep_hours'].fillna(df['sleep_hours'].median())"
      ],
      "metadata": {
        "colab": {
          "base_uri": "https://localhost:8080/"
        },
        "id": "Fj6K9EHdJ10B",
        "outputId": "eb55d0f4-68db-450d-b0ed-f474287aec4c"
      },
      "execution_count": null,
      "outputs": [
        {
          "output_type": "stream",
          "name": "stdout",
          "text": [
            "median sleep hours: 7.5\n",
            "mean sleep hours: 7.5133152173913045\n"
          ]
        }
      ]
    },
    {
      "cell_type": "markdown",
      "source": [
        "### descriptive statistics"
      ],
      "metadata": {
        "id": "sF-u4OtTLn2c"
      }
    },
    {
      "cell_type": "code",
      "source": [
        "df.describe()"
      ],
      "metadata": {
        "colab": {
          "base_uri": "https://localhost:8080/",
          "height": 300
        },
        "id": "VWed4XAZKBXa",
        "outputId": "820386d0-5d53-4311-e00d-383f1d5bddf8"
      },
      "execution_count": null,
      "outputs": [
        {
          "output_type": "execute_result",
          "data": {
            "text/plain": [
              "               age   height_cm    weight_kg   heart_rate  blood_pressure  \\\n",
              "count  2000.000000  2000.00000  2000.000000  2000.000000     2000.000000   \n",
              "mean     49.114000   174.53300    82.112000    70.288600      119.908850   \n",
              "std      17.926564    14.37175    21.684639    11.846339       14.578032   \n",
              "min      18.000000   150.00000    30.000000    45.000000       90.000000   \n",
              "25%      34.000000   162.00000    64.000000    62.100000      109.700000   \n",
              "50%      49.000000   174.00000    83.000000    70.250000      120.000000   \n",
              "75%      65.000000   187.00000   101.000000    78.425000      129.800000   \n",
              "max      79.000000   199.00000   119.000000   118.600000      171.200000   \n",
              "\n",
              "       sleep_hours  nutrition_quality  activity_index       is_fit  \n",
              "count  2000.000000        2000.000000     2000.000000  2000.000000  \n",
              "mean      7.512250           5.035140        2.999040     0.399500  \n",
              "std       1.440671           2.864156        1.136383     0.489918  \n",
              "min       4.000000           0.000000        1.000000     0.000000  \n",
              "25%       6.600000           2.547500        2.037500     0.000000  \n",
              "50%       7.500000           5.065000        2.980000     0.000000  \n",
              "75%       8.400000           7.470000        3.950000     1.000000  \n",
              "max      12.000000          10.000000        4.990000     1.000000  "
            ],
            "text/html": [
              "\n",
              "  <div id=\"df-c41ea706-2240-4c71-8324-96aea4cdf2fd\" class=\"colab-df-container\">\n",
              "    <div>\n",
              "<style scoped>\n",
              "    .dataframe tbody tr th:only-of-type {\n",
              "        vertical-align: middle;\n",
              "    }\n",
              "\n",
              "    .dataframe tbody tr th {\n",
              "        vertical-align: top;\n",
              "    }\n",
              "\n",
              "    .dataframe thead th {\n",
              "        text-align: right;\n",
              "    }\n",
              "</style>\n",
              "<table border=\"1\" class=\"dataframe\">\n",
              "  <thead>\n",
              "    <tr style=\"text-align: right;\">\n",
              "      <th></th>\n",
              "      <th>age</th>\n",
              "      <th>height_cm</th>\n",
              "      <th>weight_kg</th>\n",
              "      <th>heart_rate</th>\n",
              "      <th>blood_pressure</th>\n",
              "      <th>sleep_hours</th>\n",
              "      <th>nutrition_quality</th>\n",
              "      <th>activity_index</th>\n",
              "      <th>is_fit</th>\n",
              "    </tr>\n",
              "  </thead>\n",
              "  <tbody>\n",
              "    <tr>\n",
              "      <th>count</th>\n",
              "      <td>2000.000000</td>\n",
              "      <td>2000.00000</td>\n",
              "      <td>2000.000000</td>\n",
              "      <td>2000.000000</td>\n",
              "      <td>2000.000000</td>\n",
              "      <td>2000.000000</td>\n",
              "      <td>2000.000000</td>\n",
              "      <td>2000.000000</td>\n",
              "      <td>2000.000000</td>\n",
              "    </tr>\n",
              "    <tr>\n",
              "      <th>mean</th>\n",
              "      <td>49.114000</td>\n",
              "      <td>174.53300</td>\n",
              "      <td>82.112000</td>\n",
              "      <td>70.288600</td>\n",
              "      <td>119.908850</td>\n",
              "      <td>7.512250</td>\n",
              "      <td>5.035140</td>\n",
              "      <td>2.999040</td>\n",
              "      <td>0.399500</td>\n",
              "    </tr>\n",
              "    <tr>\n",
              "      <th>std</th>\n",
              "      <td>17.926564</td>\n",
              "      <td>14.37175</td>\n",
              "      <td>21.684639</td>\n",
              "      <td>11.846339</td>\n",
              "      <td>14.578032</td>\n",
              "      <td>1.440671</td>\n",
              "      <td>2.864156</td>\n",
              "      <td>1.136383</td>\n",
              "      <td>0.489918</td>\n",
              "    </tr>\n",
              "    <tr>\n",
              "      <th>min</th>\n",
              "      <td>18.000000</td>\n",
              "      <td>150.00000</td>\n",
              "      <td>30.000000</td>\n",
              "      <td>45.000000</td>\n",
              "      <td>90.000000</td>\n",
              "      <td>4.000000</td>\n",
              "      <td>0.000000</td>\n",
              "      <td>1.000000</td>\n",
              "      <td>0.000000</td>\n",
              "    </tr>\n",
              "    <tr>\n",
              "      <th>25%</th>\n",
              "      <td>34.000000</td>\n",
              "      <td>162.00000</td>\n",
              "      <td>64.000000</td>\n",
              "      <td>62.100000</td>\n",
              "      <td>109.700000</td>\n",
              "      <td>6.600000</td>\n",
              "      <td>2.547500</td>\n",
              "      <td>2.037500</td>\n",
              "      <td>0.000000</td>\n",
              "    </tr>\n",
              "    <tr>\n",
              "      <th>50%</th>\n",
              "      <td>49.000000</td>\n",
              "      <td>174.00000</td>\n",
              "      <td>83.000000</td>\n",
              "      <td>70.250000</td>\n",
              "      <td>120.000000</td>\n",
              "      <td>7.500000</td>\n",
              "      <td>5.065000</td>\n",
              "      <td>2.980000</td>\n",
              "      <td>0.000000</td>\n",
              "    </tr>\n",
              "    <tr>\n",
              "      <th>75%</th>\n",
              "      <td>65.000000</td>\n",
              "      <td>187.00000</td>\n",
              "      <td>101.000000</td>\n",
              "      <td>78.425000</td>\n",
              "      <td>129.800000</td>\n",
              "      <td>8.400000</td>\n",
              "      <td>7.470000</td>\n",
              "      <td>3.950000</td>\n",
              "      <td>1.000000</td>\n",
              "    </tr>\n",
              "    <tr>\n",
              "      <th>max</th>\n",
              "      <td>79.000000</td>\n",
              "      <td>199.00000</td>\n",
              "      <td>119.000000</td>\n",
              "      <td>118.600000</td>\n",
              "      <td>171.200000</td>\n",
              "      <td>12.000000</td>\n",
              "      <td>10.000000</td>\n",
              "      <td>4.990000</td>\n",
              "      <td>1.000000</td>\n",
              "    </tr>\n",
              "  </tbody>\n",
              "</table>\n",
              "</div>\n",
              "    <div class=\"colab-df-buttons\">\n",
              "\n",
              "  <div class=\"colab-df-container\">\n",
              "    <button class=\"colab-df-convert\" onclick=\"convertToInteractive('df-c41ea706-2240-4c71-8324-96aea4cdf2fd')\"\n",
              "            title=\"Convert this dataframe to an interactive table.\"\n",
              "            style=\"display:none;\">\n",
              "\n",
              "  <svg xmlns=\"http://www.w3.org/2000/svg\" height=\"24px\" viewBox=\"0 -960 960 960\">\n",
              "    <path d=\"M120-120v-720h720v720H120Zm60-500h600v-160H180v160Zm220 220h160v-160H400v160Zm0 220h160v-160H400v160ZM180-400h160v-160H180v160Zm440 0h160v-160H620v160ZM180-180h160v-160H180v160Zm440 0h160v-160H620v160Z\"/>\n",
              "  </svg>\n",
              "    </button>\n",
              "\n",
              "  <style>\n",
              "    .colab-df-container {\n",
              "      display:flex;\n",
              "      gap: 12px;\n",
              "    }\n",
              "\n",
              "    .colab-df-convert {\n",
              "      background-color: #E8F0FE;\n",
              "      border: none;\n",
              "      border-radius: 50%;\n",
              "      cursor: pointer;\n",
              "      display: none;\n",
              "      fill: #1967D2;\n",
              "      height: 32px;\n",
              "      padding: 0 0 0 0;\n",
              "      width: 32px;\n",
              "    }\n",
              "\n",
              "    .colab-df-convert:hover {\n",
              "      background-color: #E2EBFA;\n",
              "      box-shadow: 0px 1px 2px rgba(60, 64, 67, 0.3), 0px 1px 3px 1px rgba(60, 64, 67, 0.15);\n",
              "      fill: #174EA6;\n",
              "    }\n",
              "\n",
              "    .colab-df-buttons div {\n",
              "      margin-bottom: 4px;\n",
              "    }\n",
              "\n",
              "    [theme=dark] .colab-df-convert {\n",
              "      background-color: #3B4455;\n",
              "      fill: #D2E3FC;\n",
              "    }\n",
              "\n",
              "    [theme=dark] .colab-df-convert:hover {\n",
              "      background-color: #434B5C;\n",
              "      box-shadow: 0px 1px 3px 1px rgba(0, 0, 0, 0.15);\n",
              "      filter: drop-shadow(0px 1px 2px rgba(0, 0, 0, 0.3));\n",
              "      fill: #FFFFFF;\n",
              "    }\n",
              "  </style>\n",
              "\n",
              "    <script>\n",
              "      const buttonEl =\n",
              "        document.querySelector('#df-c41ea706-2240-4c71-8324-96aea4cdf2fd button.colab-df-convert');\n",
              "      buttonEl.style.display =\n",
              "        google.colab.kernel.accessAllowed ? 'block' : 'none';\n",
              "\n",
              "      async function convertToInteractive(key) {\n",
              "        const element = document.querySelector('#df-c41ea706-2240-4c71-8324-96aea4cdf2fd');\n",
              "        const dataTable =\n",
              "          await google.colab.kernel.invokeFunction('convertToInteractive',\n",
              "                                                    [key], {});\n",
              "        if (!dataTable) return;\n",
              "\n",
              "        const docLinkHtml = 'Like what you see? Visit the ' +\n",
              "          '<a target=\"_blank\" href=https://colab.research.google.com/notebooks/data_table.ipynb>data table notebook</a>'\n",
              "          + ' to learn more about interactive tables.';\n",
              "        element.innerHTML = '';\n",
              "        dataTable['output_type'] = 'display_data';\n",
              "        await google.colab.output.renderOutput(dataTable, element);\n",
              "        const docLink = document.createElement('div');\n",
              "        docLink.innerHTML = docLinkHtml;\n",
              "        element.appendChild(docLink);\n",
              "      }\n",
              "    </script>\n",
              "  </div>\n",
              "\n",
              "\n",
              "    <div id=\"df-4542d7bc-0037-4300-b817-fd0b10c8a5f1\">\n",
              "      <button class=\"colab-df-quickchart\" onclick=\"quickchart('df-4542d7bc-0037-4300-b817-fd0b10c8a5f1')\"\n",
              "                title=\"Suggest charts\"\n",
              "                style=\"display:none;\">\n",
              "\n",
              "<svg xmlns=\"http://www.w3.org/2000/svg\" height=\"24px\"viewBox=\"0 0 24 24\"\n",
              "     width=\"24px\">\n",
              "    <g>\n",
              "        <path d=\"M19 3H5c-1.1 0-2 .9-2 2v14c0 1.1.9 2 2 2h14c1.1 0 2-.9 2-2V5c0-1.1-.9-2-2-2zM9 17H7v-7h2v7zm4 0h-2V7h2v10zm4 0h-2v-4h2v4z\"/>\n",
              "    </g>\n",
              "</svg>\n",
              "      </button>\n",
              "\n",
              "<style>\n",
              "  .colab-df-quickchart {\n",
              "      --bg-color: #E8F0FE;\n",
              "      --fill-color: #1967D2;\n",
              "      --hover-bg-color: #E2EBFA;\n",
              "      --hover-fill-color: #174EA6;\n",
              "      --disabled-fill-color: #AAA;\n",
              "      --disabled-bg-color: #DDD;\n",
              "  }\n",
              "\n",
              "  [theme=dark] .colab-df-quickchart {\n",
              "      --bg-color: #3B4455;\n",
              "      --fill-color: #D2E3FC;\n",
              "      --hover-bg-color: #434B5C;\n",
              "      --hover-fill-color: #FFFFFF;\n",
              "      --disabled-bg-color: #3B4455;\n",
              "      --disabled-fill-color: #666;\n",
              "  }\n",
              "\n",
              "  .colab-df-quickchart {\n",
              "    background-color: var(--bg-color);\n",
              "    border: none;\n",
              "    border-radius: 50%;\n",
              "    cursor: pointer;\n",
              "    display: none;\n",
              "    fill: var(--fill-color);\n",
              "    height: 32px;\n",
              "    padding: 0;\n",
              "    width: 32px;\n",
              "  }\n",
              "\n",
              "  .colab-df-quickchart:hover {\n",
              "    background-color: var(--hover-bg-color);\n",
              "    box-shadow: 0 1px 2px rgba(60, 64, 67, 0.3), 0 1px 3px 1px rgba(60, 64, 67, 0.15);\n",
              "    fill: var(--button-hover-fill-color);\n",
              "  }\n",
              "\n",
              "  .colab-df-quickchart-complete:disabled,\n",
              "  .colab-df-quickchart-complete:disabled:hover {\n",
              "    background-color: var(--disabled-bg-color);\n",
              "    fill: var(--disabled-fill-color);\n",
              "    box-shadow: none;\n",
              "  }\n",
              "\n",
              "  .colab-df-spinner {\n",
              "    border: 2px solid var(--fill-color);\n",
              "    border-color: transparent;\n",
              "    border-bottom-color: var(--fill-color);\n",
              "    animation:\n",
              "      spin 1s steps(1) infinite;\n",
              "  }\n",
              "\n",
              "  @keyframes spin {\n",
              "    0% {\n",
              "      border-color: transparent;\n",
              "      border-bottom-color: var(--fill-color);\n",
              "      border-left-color: var(--fill-color);\n",
              "    }\n",
              "    20% {\n",
              "      border-color: transparent;\n",
              "      border-left-color: var(--fill-color);\n",
              "      border-top-color: var(--fill-color);\n",
              "    }\n",
              "    30% {\n",
              "      border-color: transparent;\n",
              "      border-left-color: var(--fill-color);\n",
              "      border-top-color: var(--fill-color);\n",
              "      border-right-color: var(--fill-color);\n",
              "    }\n",
              "    40% {\n",
              "      border-color: transparent;\n",
              "      border-right-color: var(--fill-color);\n",
              "      border-top-color: var(--fill-color);\n",
              "    }\n",
              "    60% {\n",
              "      border-color: transparent;\n",
              "      border-right-color: var(--fill-color);\n",
              "    }\n",
              "    80% {\n",
              "      border-color: transparent;\n",
              "      border-right-color: var(--fill-color);\n",
              "      border-bottom-color: var(--fill-color);\n",
              "    }\n",
              "    90% {\n",
              "      border-color: transparent;\n",
              "      border-bottom-color: var(--fill-color);\n",
              "    }\n",
              "  }\n",
              "</style>\n",
              "\n",
              "      <script>\n",
              "        async function quickchart(key) {\n",
              "          const quickchartButtonEl =\n",
              "            document.querySelector('#' + key + ' button');\n",
              "          quickchartButtonEl.disabled = true;  // To prevent multiple clicks.\n",
              "          quickchartButtonEl.classList.add('colab-df-spinner');\n",
              "          try {\n",
              "            const charts = await google.colab.kernel.invokeFunction(\n",
              "                'suggestCharts', [key], {});\n",
              "          } catch (error) {\n",
              "            console.error('Error during call to suggestCharts:', error);\n",
              "          }\n",
              "          quickchartButtonEl.classList.remove('colab-df-spinner');\n",
              "          quickchartButtonEl.classList.add('colab-df-quickchart-complete');\n",
              "        }\n",
              "        (() => {\n",
              "          let quickchartButtonEl =\n",
              "            document.querySelector('#df-4542d7bc-0037-4300-b817-fd0b10c8a5f1 button');\n",
              "          quickchartButtonEl.style.display =\n",
              "            google.colab.kernel.accessAllowed ? 'block' : 'none';\n",
              "        })();\n",
              "      </script>\n",
              "    </div>\n",
              "\n",
              "    </div>\n",
              "  </div>\n"
            ],
            "application/vnd.google.colaboratory.intrinsic+json": {
              "type": "dataframe",
              "summary": "{\n  \"name\": \"df\",\n  \"rows\": 8,\n  \"fields\": [\n    {\n      \"column\": \"age\",\n      \"properties\": {\n        \"dtype\": \"number\",\n        \"std\": 691.6738600439497,\n        \"min\": 17.926563665198668,\n        \"max\": 2000.0,\n        \"num_unique_values\": 8,\n        \"samples\": [\n          49.114,\n          49.0,\n          2000.0\n        ],\n        \"semantic_type\": \"\",\n        \"description\": \"\"\n      }\n    },\n    {\n      \"column\": \"height_cm\",\n      \"properties\": {\n        \"dtype\": \"number\",\n        \"std\": 656.0831915412463,\n        \"min\": 14.371749531365165,\n        \"max\": 2000.0,\n        \"num_unique_values\": 8,\n        \"samples\": [\n          174.533,\n          174.0,\n          2000.0\n        ],\n        \"semantic_type\": \"\",\n        \"description\": \"\"\n      }\n    },\n    {\n      \"column\": \"weight_kg\",\n      \"properties\": {\n        \"dtype\": \"number\",\n        \"std\": 682.6117517529653,\n        \"min\": 21.684638982097262,\n        \"max\": 2000.0,\n        \"num_unique_values\": 8,\n        \"samples\": [\n          82.112,\n          83.0,\n          2000.0\n        ],\n        \"semantic_type\": \"\",\n        \"description\": \"\"\n      }\n    },\n    {\n      \"column\": \"heart_rate\",\n      \"properties\": {\n        \"dtype\": \"number\",\n        \"std\": 684.7114722229472,\n        \"min\": 11.846338586624741,\n        \"max\": 2000.0,\n        \"num_unique_values\": 8,\n        \"samples\": [\n          70.28859999999999,\n          70.25,\n          2000.0\n        ],\n        \"semantic_type\": \"\",\n        \"description\": \"\"\n      }\n    },\n    {\n      \"column\": \"blood_pressure\",\n      \"properties\": {\n        \"dtype\": \"number\",\n        \"std\": 670.4369978923633,\n        \"min\": 14.578031972306592,\n        \"max\": 2000.0,\n        \"num_unique_values\": 8,\n        \"samples\": [\n          119.90885,\n          120.0,\n          2000.0\n        ],\n        \"semantic_type\": \"\",\n        \"description\": \"\"\n      }\n    },\n    {\n      \"column\": \"sleep_hours\",\n      \"properties\": {\n        \"dtype\": \"number\",\n        \"std\": 704.7168576820719,\n        \"min\": 1.440670921429291,\n        \"max\": 2000.0,\n        \"num_unique_values\": 8,\n        \"samples\": [\n          7.51225,\n          7.5,\n          2000.0\n        ],\n        \"semantic_type\": \"\",\n        \"description\": \"\"\n      }\n    },\n    {\n      \"column\": \"nutrition_quality\",\n      \"properties\": {\n        \"dtype\": \"number\",\n        \"std\": 705.44764186772,\n        \"min\": 0.0,\n        \"max\": 2000.0,\n        \"num_unique_values\": 8,\n        \"samples\": [\n          5.03514,\n          5.0649999999999995,\n          2000.0\n        ],\n        \"semantic_type\": \"\",\n        \"description\": \"\"\n      }\n    },\n    {\n      \"column\": \"activity_index\",\n      \"properties\": {\n        \"dtype\": \"number\",\n        \"std\": 706.1437319311123,\n        \"min\": 1.0,\n        \"max\": 2000.0,\n        \"num_unique_values\": 8,\n        \"samples\": [\n          2.99904,\n          2.98,\n          2000.0\n        ],\n        \"semantic_type\": \"\",\n        \"description\": \"\"\n      }\n    },\n    {\n      \"column\": \"is_fit\",\n      \"properties\": {\n        \"dtype\": \"number\",\n        \"std\": 706.9609654783068,\n        \"min\": 0.0,\n        \"max\": 2000.0,\n        \"num_unique_values\": 5,\n        \"samples\": [\n          0.3995,\n          1.0,\n          0.4899181154845555\n        ],\n        \"semantic_type\": \"\",\n        \"description\": \"\"\n      }\n    }\n  ]\n}"
            }
          },
          "metadata": {},
          "execution_count": 15
        }
      ]
    },
    {
      "cell_type": "markdown",
      "source": [
        "### treating mixed types of 'smokes' column"
      ],
      "metadata": {
        "id": "nLmcPKKoMFba"
      }
    },
    {
      "cell_type": "code",
      "source": [
        "df['smokes'] = df['smokes'].map({'yes': 1, 'no': 0, '1':1,'0':0}).astype(int)\n",
        "print(df['smokes'].head(10))\n",
        "print(f\"data type of smokes:{df['smokes'].dtype}\")\n",
        "print(df['smokes'].value_counts())"
      ],
      "metadata": {
        "colab": {
          "base_uri": "https://localhost:8080/"
        },
        "id": "V2MB23GjMyIP",
        "outputId": "efcf3592-f6c4-4561-a3ae-de4b2e910267"
      },
      "execution_count": null,
      "outputs": [
        {
          "output_type": "stream",
          "name": "stdout",
          "text": [
            "0    0\n",
            "1    0\n",
            "2    0\n",
            "3    0\n",
            "4    1\n",
            "5    1\n",
            "6    1\n",
            "7    0\n",
            "8    0\n",
            "9    0\n",
            "Name: smokes, dtype: int64\n",
            "data type of smokes:int64\n",
            "smokes\n",
            "0    1099\n",
            "1     901\n",
            "Name: count, dtype: int64\n"
          ]
        }
      ]
    },
    {
      "cell_type": "code",
      "source": [
        "lencoder = LabelEncoder()\n",
        "\n",
        "\n",
        "df['gender'] = lencoder.fit_transform(df['gender'])\n",
        "print(df['gender'])"
      ],
      "metadata": {
        "colab": {
          "base_uri": "https://localhost:8080/"
        },
        "id": "6Gk2CviC5JsG",
        "outputId": "14315fe2-c5fa-4135-d85a-bbab7f4f981e"
      },
      "execution_count": null,
      "outputs": [
        {
          "output_type": "stream",
          "name": "stdout",
          "text": [
            "0       0\n",
            "1       0\n",
            "2       0\n",
            "3       1\n",
            "4       0\n",
            "       ..\n",
            "1995    1\n",
            "1996    1\n",
            "1997    1\n",
            "1998    0\n",
            "1999    1\n",
            "Name: gender, Length: 2000, dtype: int64\n"
          ]
        }
      ]
    },
    {
      "cell_type": "markdown",
      "source": [
        "### Calculating BMI using height and weight, domain specific term used for better relation wit target variable"
      ],
      "metadata": {
        "id": "X2LyStyPbFlh"
      }
    },
    {
      "cell_type": "code",
      "source": [
        "#dividing height by 100 to convert to metres\n",
        "df['bmi'] = df['weight_kg'] / (df['height_cm'] / 100) ** 2\n",
        "print(df['bmi'])\n"
      ],
      "metadata": {
        "colab": {
          "base_uri": "https://localhost:8080/"
        },
        "id": "Lpp2kc86NPOL",
        "outputId": "bddf4ffa-32f4-4093-8269-474c58f5e152"
      },
      "execution_count": null,
      "outputs": [
        {
          "output_type": "stream",
          "name": "stdout",
          "text": [
            "0       28.133657\n",
            "1       27.459822\n",
            "2       27.940538\n",
            "3       23.235632\n",
            "4       32.326531\n",
            "          ...    \n",
            "1995    32.744161\n",
            "1996    21.389756\n",
            "1997    22.701765\n",
            "1998    17.451524\n",
            "1999    28.305995\n",
            "Name: bmi, Length: 2000, dtype: float64\n"
          ]
        }
      ]
    },
    {
      "cell_type": "markdown",
      "source": [
        "### Data Splitting"
      ],
      "metadata": {
        "id": "rhKLBzZo6Lne"
      }
    },
    {
      "cell_type": "code",
      "source": [
        "X = df.drop('is_fit', axis =1)\n",
        "y = df['is_fit']"
      ],
      "metadata": {
        "id": "bgLzWtf9b3oJ"
      },
      "execution_count": null,
      "outputs": []
    },
    {
      "cell_type": "markdown",
      "source": [
        "### Model Training and Evaluation"
      ],
      "metadata": {
        "id": "oOi2O981JL04"
      }
    },
    {
      "cell_type": "code",
      "source": [
        "#creating logistic regression using keras\n",
        "from sklearn.metrics import confusion_matrix, ConfusionMatrixDisplay, recall_score, accuracy_score, precision_score, f1_score, classification_report\n",
        "\n",
        "\n",
        "X_train, X_test, y_train, y_test = train_test_split(X, y, test_size=0.2, random_state=42)\n",
        "\n",
        "\n",
        "\n",
        "\n",
        "log_model = Sequential([Dense(1,activation='sigmoid', input_dim = X_train.shape[1])])\n",
        "log_model.compile(optimizer=Adam(learning_rate=0.001),loss='binary_crossentropy',metrics=['accuracy'])\n",
        "\n",
        "\n",
        "\n",
        "learning_rate = [0.001, 0.01, 0.1]\n",
        "epochs= [20, 50, 100]\n",
        "batch_sizes = [16, 32, 64]\n",
        "\n",
        "best_accuracy = 0\n",
        "best_params = []\n",
        "best_precision = 0\n",
        "\n",
        "\n",
        "for lr in learning_rate:\n",
        "  for ep in epochs:\n",
        "    for bs in batch_sizes:\n",
        "      log_model.compile(optimizer=Adam(learning_rate=lr),loss='binary_crossentropy',metrics=['accuracy'])\n",
        "      log_model.fit(X_train, y_train, epochs=ep, batch_size=bs, verbose=0)\n",
        "      y_pred = log_model.predict(X_test)\n",
        "\n",
        "      # Convert continuous predictions to binary (0 or 1)\n",
        "      y_pred_binary = (y_pred > 0.5).astype(int)\n",
        "\n",
        "      accuracy = accuracy_score(y_test,y_pred_binary)\n",
        "\n",
        "      if accuracy > best_accuracy:\n",
        "        best_accuracy = accuracy\n",
        "        best_params = (lr, ep, bs)\n",
        "        best_precision = precision_score(y_test, y_pred_binary)\n",
        "        best_recall = recall_score(y_test, y_pred_binary)\n",
        "        best_f1 = f1_score(y_test, y_pred_binary)\n",
        "\n",
        "print(f\"Best Accuracy: {best_accuracy}\")\n",
        "print(f\"Best Parameters (learning_rate, epochs, batch_size): {best_params}\")\n",
        "print(f\"Best Precision {(best_precision):.3f}\")\n",
        "print(f\"Best Recall {best_recall:.3f}\")\n",
        "print(f\"Best F1 Score {best_f1:.3f}\")\n",
        "\n",
        "print(f\"classification report : {classification_report(y_test,y_pred_binary)}\")\n",
        "\n",
        "cm = confusion_matrix(y_test, y_pred_binary)\n",
        "disp = ConfusionMatrixDisplay(confusion_matrix=cm, display_labels=[0, 1])\n",
        "disp.plot()\n",
        "plt.show()"
      ],
      "metadata": {
        "id": "5zzu69txfJMe",
        "colab": {
          "base_uri": "https://localhost:8080/",
          "height": 1000
        },
        "outputId": "f656802b-1911-477a-a2ce-3d32844dc697"
      },
      "execution_count": null,
      "outputs": [
        {
          "output_type": "stream",
          "name": "stderr",
          "text": [
            "/usr/local/lib/python3.12/dist-packages/keras/src/layers/core/dense.py:93: UserWarning: Do not pass an `input_shape`/`input_dim` argument to a layer. When using Sequential models, prefer using an `Input(shape)` object as the first layer in the model instead.\n",
            "  super().__init__(activity_regularizer=activity_regularizer, **kwargs)\n"
          ]
        },
        {
          "output_type": "stream",
          "name": "stdout",
          "text": [
            "\u001b[1m13/13\u001b[0m \u001b[32m━━━━━━━━━━━━━━━━━━━━\u001b[0m\u001b[37m\u001b[0m \u001b[1m0s\u001b[0m 5ms/step \n",
            "\u001b[1m13/13\u001b[0m \u001b[32m━━━━━━━━━━━━━━━━━━━━\u001b[0m\u001b[37m\u001b[0m \u001b[1m0s\u001b[0m 6ms/step \n",
            "\u001b[1m13/13\u001b[0m \u001b[32m━━━━━━━━━━━━━━━━━━━━\u001b[0m\u001b[37m\u001b[0m \u001b[1m0s\u001b[0m 4ms/step \n",
            "\u001b[1m13/13\u001b[0m \u001b[32m━━━━━━━━━━━━━━━━━━━━\u001b[0m\u001b[37m\u001b[0m \u001b[1m0s\u001b[0m 6ms/step \n",
            "\u001b[1m13/13\u001b[0m \u001b[32m━━━━━━━━━━━━━━━━━━━━\u001b[0m\u001b[37m\u001b[0m \u001b[1m0s\u001b[0m 4ms/step \n",
            "\u001b[1m13/13\u001b[0m \u001b[32m━━━━━━━━━━━━━━━━━━━━\u001b[0m\u001b[37m\u001b[0m \u001b[1m0s\u001b[0m 5ms/step \n",
            "\u001b[1m13/13\u001b[0m \u001b[32m━━━━━━━━━━━━━━━━━━━━\u001b[0m\u001b[37m\u001b[0m \u001b[1m0s\u001b[0m 4ms/step \n",
            "\u001b[1m13/13\u001b[0m \u001b[32m━━━━━━━━━━━━━━━━━━━━\u001b[0m\u001b[37m\u001b[0m \u001b[1m0s\u001b[0m 4ms/step \n",
            "\u001b[1m13/13\u001b[0m \u001b[32m━━━━━━━━━━━━━━━━━━━━\u001b[0m\u001b[37m\u001b[0m \u001b[1m0s\u001b[0m 4ms/step \n",
            "\u001b[1m13/13\u001b[0m \u001b[32m━━━━━━━━━━━━━━━━━━━━\u001b[0m\u001b[37m\u001b[0m \u001b[1m0s\u001b[0m 4ms/step \n",
            "\u001b[1m13/13\u001b[0m \u001b[32m━━━━━━━━━━━━━━━━━━━━\u001b[0m\u001b[37m\u001b[0m \u001b[1m0s\u001b[0m 4ms/step \n",
            "\u001b[1m13/13\u001b[0m \u001b[32m━━━━━━━━━━━━━━━━━━━━\u001b[0m\u001b[37m\u001b[0m \u001b[1m0s\u001b[0m 5ms/step \n",
            "\u001b[1m13/13\u001b[0m \u001b[32m━━━━━━━━━━━━━━━━━━━━\u001b[0m\u001b[37m\u001b[0m \u001b[1m0s\u001b[0m 4ms/step \n",
            "\u001b[1m13/13\u001b[0m \u001b[32m━━━━━━━━━━━━━━━━━━━━\u001b[0m\u001b[37m\u001b[0m \u001b[1m0s\u001b[0m 5ms/step \n",
            "\u001b[1m13/13\u001b[0m \u001b[32m━━━━━━━━━━━━━━━━━━━━\u001b[0m\u001b[37m\u001b[0m \u001b[1m0s\u001b[0m 4ms/step \n",
            "\u001b[1m13/13\u001b[0m \u001b[32m━━━━━━━━━━━━━━━━━━━━\u001b[0m\u001b[37m\u001b[0m \u001b[1m0s\u001b[0m 4ms/step \n",
            "\u001b[1m13/13\u001b[0m \u001b[32m━━━━━━━━━━━━━━━━━━━━\u001b[0m\u001b[37m\u001b[0m \u001b[1m0s\u001b[0m 4ms/step \n",
            "\u001b[1m13/13\u001b[0m \u001b[32m━━━━━━━━━━━━━━━━━━━━\u001b[0m\u001b[37m\u001b[0m \u001b[1m0s\u001b[0m 5ms/step \n",
            "\u001b[1m13/13\u001b[0m \u001b[32m━━━━━━━━━━━━━━━━━━━━\u001b[0m\u001b[37m\u001b[0m \u001b[1m0s\u001b[0m 4ms/step \n",
            "\u001b[1m13/13\u001b[0m \u001b[32m━━━━━━━━━━━━━━━━━━━━\u001b[0m\u001b[37m\u001b[0m \u001b[1m0s\u001b[0m 4ms/step \n",
            "\u001b[1m13/13\u001b[0m \u001b[32m━━━━━━━━━━━━━━━━━━━━\u001b[0m\u001b[37m\u001b[0m \u001b[1m0s\u001b[0m 4ms/step \n",
            "\u001b[1m13/13\u001b[0m \u001b[32m━━━━━━━━━━━━━━━━━━━━\u001b[0m\u001b[37m\u001b[0m \u001b[1m0s\u001b[0m 4ms/step \n",
            "\u001b[1m13/13\u001b[0m \u001b[32m━━━━━━━━━━━━━━━━━━━━\u001b[0m\u001b[37m\u001b[0m \u001b[1m0s\u001b[0m 4ms/step \n",
            "\u001b[1m13/13\u001b[0m \u001b[32m━━━━━━━━━━━━━━━━━━━━\u001b[0m\u001b[37m\u001b[0m \u001b[1m0s\u001b[0m 4ms/step \n",
            "\u001b[1m13/13\u001b[0m \u001b[32m━━━━━━━━━━━━━━━━━━━━\u001b[0m\u001b[37m\u001b[0m \u001b[1m0s\u001b[0m 4ms/step \n",
            "\u001b[1m13/13\u001b[0m \u001b[32m━━━━━━━━━━━━━━━━━━━━\u001b[0m\u001b[37m\u001b[0m \u001b[1m0s\u001b[0m 4ms/step \n",
            "\u001b[1m13/13\u001b[0m \u001b[32m━━━━━━━━━━━━━━━━━━━━\u001b[0m\u001b[37m\u001b[0m \u001b[1m0s\u001b[0m 4ms/step \n",
            "Best Accuracy: 0.775\n",
            "Best Parameters (learning_rate, epochs, batch_size): (0.01, 20, 64)\n",
            "Best Precision 0.742\n",
            "Best Recall 0.697\n",
            "Best F1 Score 0.719\n",
            "classification report :               precision    recall  f1-score   support\n",
            "\n",
            "           0       0.68      0.95      0.80       235\n",
            "           1       0.85      0.37      0.51       165\n",
            "\n",
            "    accuracy                           0.71       400\n",
            "   macro avg       0.77      0.66      0.66       400\n",
            "weighted avg       0.75      0.71      0.68       400\n",
            "\n"
          ]
        },
        {
          "output_type": "display_data",
          "data": {
            "text/plain": [
              "<Figure size 640x480 with 2 Axes>"
            ],
            "image/png": "[encoded data removed]"
          },
          "metadata": {}
        }
      ]
    },
    {
      "cell_type": "code",
      "source": [
        "#creating KNN\n",
        "from sklearn.neighbors import KNeighborsClassifier\n",
        "from sklearn.model_selection import GridSearchCV\n",
        "from sklearn.preprocessing import StandardScaler\n",
        "from sklearn.metrics import confusion_matrix, ConfusionMatrixDisplay, recall_score, accuracy_score, precision_score, f1_score\n",
        "import matplotlib.pyplot as plt # Import matplotlib.pyplot\n",
        "\n",
        "scaler = StandardScaler()\n",
        "X_train_scaled = scaler.fit_transform(X_train)\n",
        "X_test_scaled = scaler.transform(X_test)\n",
        "\n",
        "\n",
        "num_of_neighbours = [3,4,5,6,7,8,9]\n",
        "\n",
        "param_grid = {'n_neighbors': num_of_neighbours}\n",
        "\n",
        "knn = KNeighborsClassifier()\n",
        "\n",
        "grid_search = GridSearchCV(knn, param_grid, cv=5)\n",
        "\n",
        "grid_search.fit(X_train_scaled, y_train)\n",
        "\n",
        "print(\"Best parameters: \", grid_search.best_params_)\n",
        "print(\"Best accuracy: \", grid_search.best_score_)\n",
        "\n",
        "\n",
        "# Predict using the best KNN model found by GridSearchCV\n",
        "best_knn_model = grid_search.best_estimator_\n",
        "y_pred_knn = best_knn_model.predict(X_test_scaled)\n",
        "\n",
        "print('confusion matrix:')\n",
        "print(confusion_matrix(y_test, y_pred_knn))\n",
        "\n",
        "\n",
        "print(f\"precision: {precision_score(y_test, y_pred_knn):.3f}\")\n",
        "print(f\"recall: {recall_score(y_test, y_pred_knn):.3f}\")\n",
        "print(f\"f1 score: {f1_score(y_test, y_pred_knn):.3f}\") # added f1 score\n",
        "\n",
        "print(f\"classification report\\n {classification_report(y_test,y_pred_knn)}\")\n",
        "\n",
        "cm = confusion_matrix(y_test, y_pred_knn)\n",
        "disp = ConfusionMatrixDisplay(confusion_matrix=cm, display_labels=[0, 1])\n",
        "disp.plot()\n",
        "plt.show()"
      ],
      "metadata": {
        "colab": {
          "base_uri": "https://localhost:8080/",
          "height": 776
        },
        "id": "jHFWVMeW_UQH",
        "outputId": "f97dc2d8-3a82-40f7-8b65-d5fbcbf20b7d"
      },
      "execution_count": null,
      "outputs": [
        {
          "output_type": "stream",
          "name": "stdout",
          "text": [
            "Best parameters:  {'n_neighbors': 9}\n",
            "Best accuracy:  0.765\n",
            "confusion matrix:\n",
            "[[194  41]\n",
            " [ 73  92]]\n",
            "precision: 0.692\n",
            "recall: 0.558\n",
            "f1 score: 0.617\n",
            "classification report\n",
            "               precision    recall  f1-score   support\n",
            "\n",
            "           0       0.73      0.83      0.77       235\n",
            "           1       0.69      0.56      0.62       165\n",
            "\n",
            "    accuracy                           0.71       400\n",
            "   macro avg       0.71      0.69      0.70       400\n",
            "weighted avg       0.71      0.71      0.71       400\n",
            "\n"
          ]
        },
        {
          "output_type": "display_data",
          "data": {
            "text/plain": [
              "<Figure size 640x480 with 2 Axes>"
            ],
            "image/png": "[encoded data removed]"
          },
          "metadata": {}
        }
      ]
    },
    {
      "cell_type": "markdown",
      "source": [
        "### Logistic Regression Vs KNearestNeighbours"
      ],
      "metadata": {
        "id": "XfiDPKmpPTbk"
      }
    },
    {
      "cell_type": "markdown",
      "source": [
        "![Metricsss_page-0001.jpg](data:image/jpeg;base64,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)"
      ],
      "metadata": {
        "id": "eXx24O2tP3hH"
      }
    },
    {
      "cell_type": "markdown",
      "source": [
        "# Project Report"
      ],
      "metadata": {
        "id": "dCkUXnbbQoB7"
      }
    },
    {
      "cell_type": "markdown",
      "source": [
        "# Introduction"
      ],
      "metadata": {
        "id": "oru6TJFDQvDO"
      }
    },
    {
      "cell_type": "markdown",
      "source": [
        "In this project we are focusing on predicting individual's fitness status as \"is_fit\" using Machine Learning models which were applied to fitness dataset. The dataset contains relevant features like weight, height, sleep hours, smoking habits, nutrition quality and gender etc.\n",
        "\n",
        "\n",
        "The main goal is to preprocess the uncleaned dataset by handling missing values and outliers. Build models to classify fit and unfit individuals. Evaluate the model's performance."
      ],
      "metadata": {
        "id": "JBHy2FG6Q_J7"
      }
    },
    {
      "cell_type": "markdown",
      "source": [
        "# About Dataset"
      ],
      "metadata": {
        "id": "g70keUpHRwe3"
      }
    },
    {
      "cell_type": "code",
      "source": [
        "from IPython.display import HTML\n",
        "\n",
        "HTML(\"<a href='https://www.kaggle.com/datasets/muhammedderric/fitness-classification-dataset-synthetic' target='_blank'>Dataset Link</a>\")\n"
      ],
      "metadata": {
        "colab": {
          "base_uri": "https://localhost:8080/",
          "height": 34
        },
        "id": "dlwoy94qTJ3l",
        "outputId": "ac499c3b-6b6c-4e5a-9502-042269eaf3b2"
      },
      "execution_count": null,
      "outputs": [
        {
          "output_type": "execute_result",
          "data": {
            "text/plain": [
              "<IPython.core.display.HTML object>"
            ],
            "text/html": [
              "<a href='https://www.kaggle.com/datasets/muhammedderric/fitness-classification-dataset-synthetic' target='_blank'>Dataset Link</a>"
            ]
          },
          "metadata": {},
          "execution_count": 36
        }
      ]
    },
    {
      "cell_type": "markdown",
      "source": [
        "Features: gender, age, smokes, sleep_hours, weight_kg, height_cm, heart_rate\n",
        "\n",
        "Target Variable: is_fit"
      ],
      "metadata": {
        "id": "QeYghF-dRwc2"
      }
    },
    {
      "cell_type": "markdown",
      "source": [
        "# Data Preprocessing"
      ],
      "metadata": {
        "id": "6Gnb6iw4RwWL"
      }
    },
    {
      "cell_type": "markdown",
      "source": [
        "## Data cleaning"
      ],
      "metadata": {
        "id": "LtGt0A-hTtb1"
      }
    },
    {
      "cell_type": "markdown",
      "source": [
        "* sleep_hours is filled with median\n",
        "values\n",
        "* weight_kg this feature outliers were detected using IQR method and  \n",
        "* 'smokes' enocded to 1 for yes and 0 for no\n",
        "* gender is encoded usinf Label Encoder"
      ],
      "metadata": {
        "id": "kl5BJE6eTtYU"
      }
    },
    {
      "cell_type": "markdown",
      "source": [
        "# Model Development & Evaluation"
      ],
      "metadata": {
        "id": "JL40J9UfTtTw"
      }
    },
    {
      "cell_type": "markdown",
      "source": [
        "## Logistic regression"
      ],
      "metadata": {
        "id": "24HczbneTtRO"
      }
    },
    {
      "cell_type": "markdown",
      "source": [
        "* Model: Logistic Regression using sigmoid function for binary classification.\n",
        "* Hyperparameter tuning:\n",
        "* Learning rates [0.001, 0.01, 0.1]\n",
        "* Epochs: [20,50,100]\n",
        "* Batch sizes: [16,32,64]\n",
        "* Metrics: Accuracy, Precision, Recall, F1 Score\n"
      ],
      "metadata": {
        "id": "w7dV6hIDXAlI"
      }
    },
    {
      "cell_type": "markdown",
      "source": [
        "## K Nearest Neighbours"
      ],
      "metadata": {
        "id": "HuXor4znXAiq"
      }
    },
    {
      "cell_type": "markdown",
      "source": [
        "* Model : KNN Classififer\n",
        "* Hyperparameter tuning: GridsearchCV with neighbours from k=3 to k=9\n",
        "* Best parameters extracted from GridSearchCV\n",
        "* Metrics: Accuracy, Precision, Recall, F1 Score"
      ],
      "metadata": {
        "id": "BwIg8fzxY62-"
      }
    },
    {
      "cell_type": "markdown",
      "source": [
        "### Conclusion"
      ],
      "metadata": {
        "id": "kdsfHE-lZaws"
      }
    },
    {
      "cell_type": "markdown",
      "source": [
        "* Both models are able to classify fit and unfit individuals with reasonable accuracy.\n",
        "* Logistic regression with neural networks is competitive with best parameters.\n",
        "* KNN performed well after scaling numerical features.\n",
        "* creating new domain specific feature BMI improved interpretability.\n",
        "* Analysis and exploration of additional health related features for more accurate predictions.\n"
      ],
      "metadata": {
        "id": "oTXI0iSPZatQ"
      }
    },
    {
      "cell_type": "code",
      "source": [],
      "metadata": {
        "id": "1Kk03A1hP6WD"
      },
      "execution_count": null,
      "outputs": []
    }
  ]
}